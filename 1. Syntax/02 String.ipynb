{
 "cells": [
  {
   "cell_type": "code",
   "execution_count": 1,
   "id": "boolean-tenant",
   "metadata": {},
   "outputs": [
    {
     "data": {
      "text/plain": [
       "\"String\""
      ]
     },
     "execution_count": 1,
     "metadata": {},
     "output_type": "execute_result"
    }
   ],
   "source": [
    "\"String\""
   ]
  },
  {
   "cell_type": "code",
   "execution_count": 2,
   "id": "utility-operation",
   "metadata": {},
   "outputs": [
    {
     "data": {
      "text/plain": [
       "\"St\\\"ri\\\"ng\""
      ]
     },
     "execution_count": 2,
     "metadata": {},
     "output_type": "execute_result"
    }
   ],
   "source": [
    "\"\"\"St\"ri\"ng\"\"\""
   ]
  },
  {
   "cell_type": "code",
   "execution_count": 3,
   "id": "annoying-homework",
   "metadata": {},
   "outputs": [],
   "source": [
    "#\"St\"ri\"ng\" ERROR!!"
   ]
  },
  {
   "cell_type": "code",
   "execution_count": 4,
   "id": "persistent-immigration",
   "metadata": {},
   "outputs": [
    {
     "data": {
      "text/plain": [
       "Char"
      ]
     },
     "execution_count": 4,
     "metadata": {},
     "output_type": "execute_result"
    }
   ],
   "source": [
    "typeof('a')\n",
    "# 'ERROR'"
   ]
  },
  {
   "cell_type": "code",
   "execution_count": 5,
   "id": "dominican-entry",
   "metadata": {},
   "outputs": [
    {
     "name": "stdout",
     "output_type": "stream",
     "text": [
      "NAME : A\n",
      "FIN : 10, TOE : 10, ADD : 20\n"
     ]
    }
   ],
   "source": [
    "name = \"A\"\n",
    "fingers = 10\n",
    "toes = 10\n",
    "println(\"NAME : $name\")\n",
    "println(\"FIN : $fingers, TOE : $toes, ADD : $(fingers+toes)\")"
   ]
  },
  {
   "cell_type": "code",
   "execution_count": 6,
   "id": "french-underground",
   "metadata": {},
   "outputs": [
    {
     "data": {
      "text/plain": [
       "\"ABCD\""
      ]
     },
     "execution_count": 6,
     "metadata": {},
     "output_type": "execute_result"
    }
   ],
   "source": [
    "string(\"AB\", \"CD\")"
   ]
  },
  {
   "cell_type": "code",
   "execution_count": 7,
   "id": "straight-knife",
   "metadata": {},
   "outputs": [
    {
     "data": {
      "text/plain": [
       "\"AB10CD\""
      ]
     },
     "execution_count": 7,
     "metadata": {},
     "output_type": "execute_result"
    }
   ],
   "source": [
    "string(\"AB\", 10, \"CD\")"
   ]
  },
  {
   "cell_type": "code",
   "execution_count": 10,
   "id": "satisfactory-runner",
   "metadata": {},
   "outputs": [
    {
     "data": {
      "text/plain": [
       "\"ABCD\""
      ]
     },
     "execution_count": 10,
     "metadata": {},
     "output_type": "execute_result"
    }
   ],
   "source": [
    "s1 = \"AB\"\n",
    "s2 = \"CD\"\n",
    "s1*s2"
   ]
  },
  {
   "cell_type": "code",
   "execution_count": 11,
   "id": "alternative-farmer",
   "metadata": {},
   "outputs": [
    {
     "data": {
      "text/plain": [
       "\"ABCD\""
      ]
     },
     "execution_count": 11,
     "metadata": {},
     "output_type": "execute_result"
    }
   ],
   "source": [
    "\"$s1$s2\""
   ]
  },
  {
   "cell_type": "code",
   "execution_count": 12,
   "id": "suited-swift",
   "metadata": {},
   "outputs": [
    {
     "data": {
      "text/plain": [
       "\"ABCD\""
      ]
     },
     "execution_count": 12,
     "metadata": {},
     "output_type": "execute_result"
    }
   ],
   "source": [
    "string(s1, s2)"
   ]
  },
  {
   "cell_type": "code",
   "execution_count": null,
   "id": "abroad-starter",
   "metadata": {},
   "outputs": [],
   "source": []
  }
 ],
 "metadata": {
  "kernelspec": {
   "display_name": "Julia 1.4.1",
   "language": "julia",
   "name": "julia-1.4"
  },
  "language_info": {
   "file_extension": ".jl",
   "mimetype": "application/julia",
   "name": "julia",
   "version": "1.4.1"
  }
 },
 "nbformat": 4,
 "nbformat_minor": 5
}
