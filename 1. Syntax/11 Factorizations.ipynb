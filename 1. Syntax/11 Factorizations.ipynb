{
 "cells": [
  {
   "cell_type": "code",
   "execution_count": 1,
   "id": "cutting-restaurant",
   "metadata": {},
   "outputs": [
    {
     "data": {
      "text/plain": [
       "3×3 Array{Float64,2}:\n",
       "  0.154397   1.08306    -1.18045\n",
       " -0.716013  -0.0773396   1.46216\n",
       "  0.708125   0.140221   -0.0353529"
      ]
     },
     "execution_count": 1,
     "metadata": {},
     "output_type": "execute_result"
    }
   ],
   "source": [
    "A = randn(3, 3)"
   ]
  },
  {
   "cell_type": "code",
   "execution_count": 2,
   "id": "wrapped-birthday",
   "metadata": {},
   "outputs": [],
   "source": [
    "using LinearAlgebra"
   ]
  },
  {
   "cell_type": "code",
   "execution_count": 3,
   "id": "instant-planning",
   "metadata": {},
   "outputs": [
    {
     "data": {
      "text/plain": [
       "LU{Float64,Array{Float64,2}}\n",
       "L factor:\n",
       "3×3 Array{Float64,2}:\n",
       "  1.0       0.0        0.0\n",
       " -0.215635  1.0        0.0\n",
       " -0.988983  0.0597667  1.0\n",
       "U factor:\n",
       "3×3 Array{Float64,2}:\n",
       " -0.716013  -0.0773396   1.46216\n",
       "  0.0        1.06638    -0.865155\n",
       "  0.0        0.0         1.46241"
      ]
     },
     "execution_count": 3,
     "metadata": {},
     "output_type": "execute_result"
    }
   ],
   "source": [
    "l, u, p = lu(A)"
   ]
  },
  {
   "cell_type": "code",
   "execution_count": 4,
   "id": "necessary-central",
   "metadata": {},
   "outputs": [
    {
     "data": {
      "text/plain": [
       "4.2632225614997585"
      ]
     },
     "metadata": {},
     "output_type": "display_data"
    },
    {
     "data": {
      "text/plain": [
       "5.551115123125783e-17"
      ]
     },
     "metadata": {},
     "output_type": "display_data"
    }
   ],
   "source": [
    "display(norm(l*u-A))\n",
    "display(norm(l*u-A[p,:]))"
   ]
  },
  {
   "cell_type": "code",
   "execution_count": 5,
   "id": "swedish-conversation",
   "metadata": {},
   "outputs": [
    {
     "data": {
      "text/plain": [
       "1.340625907590245e-15"
      ]
     },
     "execution_count": 5,
     "metadata": {},
     "output_type": "execute_result"
    }
   ],
   "source": [
    "l, u, p = lu(A, Val(false))\n",
    "norm(l*u-A)"
   ]
  },
  {
   "cell_type": "code",
   "execution_count": 6,
   "id": "peripheral-disposal",
   "metadata": {},
   "outputs": [
    {
     "data": {
      "text/plain": [
       "3-element Array{Float64,1}:\n",
       " 0.057005620335914386\n",
       " 0.6688113099986255\n",
       " 0.8129932684830075"
      ]
     },
     "execution_count": 6,
     "metadata": {},
     "output_type": "execute_result"
    }
   ],
   "source": [
    "x = ones(3)\n",
    "b = A*x"
   ]
  },
  {
   "cell_type": "code",
   "execution_count": 7,
   "id": "illegal-bidder",
   "metadata": {},
   "outputs": [
    {
     "data": {
      "text/plain": [
       "LU{Float64,Array{Float64,2}}\n",
       "L factor:\n",
       "3×3 Array{Float64,2}:\n",
       "  1.0       0.0        0.0\n",
       " -0.215635  1.0        0.0\n",
       " -0.988983  0.0597667  1.0\n",
       "U factor:\n",
       "3×3 Array{Float64,2}:\n",
       " -0.716013  -0.0773396   1.46216\n",
       "  0.0        1.06638    -0.865155\n",
       "  0.0        0.0         1.46241"
      ]
     },
     "execution_count": 7,
     "metadata": {},
     "output_type": "execute_result"
    }
   ],
   "source": [
    "l, u, p = lu(A)"
   ]
  },
  {
   "cell_type": "code",
   "execution_count": 8,
   "id": "medical-porter",
   "metadata": {},
   "outputs": [
    {
     "data": {
      "text/plain": [
       "3×3 Array{Float64,2}:\n",
       " 0.0  1.0  0.0\n",
       " 1.0  0.0  0.0\n",
       " 0.0  0.0  1.0"
      ]
     },
     "execution_count": 8,
     "metadata": {},
     "output_type": "execute_result"
    }
   ],
   "source": [
    "pm = Matrix(Diagonal(ones(3)))[p, :]"
   ]
  },
  {
   "cell_type": "code",
   "execution_count": 9,
   "id": "micro-parish",
   "metadata": {},
   "outputs": [
    {
     "data": {
      "text/plain": [
       "3-element Array{Float64,1}:\n",
       " 1.0\n",
       " 0.9999999999999998\n",
       " 1.0"
      ]
     },
     "execution_count": 9,
     "metadata": {},
     "output_type": "execute_result"
    }
   ],
   "source": [
    "u\\(l\\(pm*b))"
   ]
  },
  {
   "cell_type": "code",
   "execution_count": 10,
   "id": "natural-copying",
   "metadata": {},
   "outputs": [
    {
     "data": {
      "text/plain": [
       "3-element Array{Float64,1}:\n",
       " 1.0000000000000002\n",
       " 1.0\n",
       " 1.0000000000000002"
      ]
     },
     "execution_count": 10,
     "metadata": {},
     "output_type": "execute_result"
    }
   ],
   "source": [
    "lu(A)\\b"
   ]
  },
  {
   "cell_type": "code",
   "execution_count": 11,
   "id": "turned-sterling",
   "metadata": {},
   "outputs": [
    {
     "data": {
      "text/plain": [
       "1.1166106776996456"
      ]
     },
     "execution_count": 11,
     "metadata": {},
     "output_type": "execute_result"
    }
   ],
   "source": [
    "det(A)"
   ]
  },
  {
   "cell_type": "code",
   "execution_count": 12,
   "id": "religious-airline",
   "metadata": {},
   "outputs": [
    {
     "data": {
      "text/plain": [
       "1.1166106776996456"
      ]
     },
     "execution_count": 12,
     "metadata": {},
     "output_type": "execute_result"
    }
   ],
   "source": [
    "det(pm)det(u)"
   ]
  },
  {
   "cell_type": "code",
   "execution_count": 13,
   "id": "dress-minneapolis",
   "metadata": {},
   "outputs": [
    {
     "data": {
      "text/plain": [
       "LinearAlgebra.QRCompactWY{Float64,Array{Float64,2}}\n",
       "Q factor:\n",
       "3×3 LinearAlgebra.QRCompactWYQ{Float64,Array{Float64,2}}:\n",
       " -0.151548  -0.987526   -0.0427304\n",
       "  0.7028    -0.13805     0.697864\n",
       " -0.695058   0.0757291   0.714955\n",
       "R factor:\n",
       "2×2 Array{Float64,2}:\n",
       " -1.0188  -0.315952\n",
       "  0.0     -1.04825"
      ]
     },
     "execution_count": 13,
     "metadata": {},
     "output_type": "execute_result"
    }
   ],
   "source": [
    "q, r = qr(A[:, 1:2])"
   ]
  },
  {
   "cell_type": "code",
   "execution_count": 14,
   "id": "administrative-passage",
   "metadata": {},
   "outputs": [
    {
     "data": {
      "text/plain": [
       "3-element Array{Float64,1}:\n",
       " -1.1390740549228107\n",
       "  0.5647500078646055\n",
       " -0.6193284476096935"
      ]
     },
     "execution_count": 14,
     "metadata": {},
     "output_type": "execute_result"
    }
   ],
   "source": [
    "q*ones(2)"
   ]
  },
  {
   "cell_type": "code",
   "execution_count": 15,
   "id": "exempt-shooting",
   "metadata": {},
   "outputs": [
    {
     "data": {
      "text/plain": [
       "3-element Array{Float64,1}:\n",
       " -1.1818045029884896\n",
       "  1.2626138542343393\n",
       "  0.09562620881136019"
      ]
     },
     "execution_count": 15,
     "metadata": {},
     "output_type": "execute_result"
    }
   ],
   "source": [
    "q*ones(3)"
   ]
  },
  {
   "cell_type": "code",
   "execution_count": 16,
   "id": "everyday-tennis",
   "metadata": {},
   "outputs": [],
   "source": [
    "#ERROR q*ones(4) q*ones(1)"
   ]
  },
  {
   "cell_type": "code",
   "execution_count": 17,
   "id": "alternate-thunder",
   "metadata": {},
   "outputs": [
    {
     "data": {
      "text/plain": [
       "-0.15154823723554367"
      ]
     },
     "execution_count": 17,
     "metadata": {},
     "output_type": "execute_result"
    }
   ],
   "source": [
    "q[1]"
   ]
  },
  {
   "cell_type": "code",
   "execution_count": 18,
   "id": "terminal-metropolitan",
   "metadata": {},
   "outputs": [
    {
     "data": {
      "text/plain": [
       "2-element Array{Float64,1}:\n",
       " 0.07600682764678417\n",
       " 0.08304964224083479"
      ]
     },
     "execution_count": 18,
     "metadata": {},
     "output_type": "execute_result"
    }
   ],
   "source": [
    "qr(A[:, 1:2])\\b"
   ]
  },
  {
   "cell_type": "code",
   "execution_count": 19,
   "id": "checked-range",
   "metadata": {},
   "outputs": [
    {
     "data": {
      "text/plain": [
       "QRPivoted{Float64,Array{Float64,2}}\n",
       "Q factor:\n",
       "3×3 LinearAlgebra.QRPackedQ{Float64,Array{Float64,2}}:\n",
       " -0.151548  0.7028    -0.695058\n",
       "  0.7028    0.571075   0.4242\n",
       " -0.695058  0.4242     0.580474\n",
       "R factor:\n",
       "2×2 Array{Float64,2}:\n",
       " -1.0188  -1.0188\n",
       "  0.0      0.0\n",
       "permutation:\n",
       "2-element Array{Int64,1}:\n",
       " 1\n",
       " 2"
      ]
     },
     "execution_count": 19,
     "metadata": {},
     "output_type": "execute_result"
    }
   ],
   "source": [
    "q, r, p = qr([A[:, 1] A[:, 1]], Val(true))"
   ]
  },
  {
   "cell_type": "code",
   "execution_count": 20,
   "id": "present-design",
   "metadata": {},
   "outputs": [
    {
     "data": {
      "text/plain": [
       "2-element Array{Float64,1}:\n",
       " 0.050881146084997775\n",
       " 0.05088114608499778"
      ]
     },
     "execution_count": 20,
     "metadata": {},
     "output_type": "execute_result"
    }
   ],
   "source": [
    "qr([A[:, 1] A[:, 1]], Val(true))\\b"
   ]
  },
  {
   "cell_type": "code",
   "execution_count": 21,
   "id": "talented-therapist",
   "metadata": {},
   "outputs": [
    {
     "data": {
      "text/plain": [
       "Eigen{Float64,Float64,Array{Float64,2},Array{Float64,1}}\n",
       "values:\n",
       "3-element Array{Float64,1}:\n",
       " -1.8764239893345112\n",
       "  0.46332369269878937\n",
       "  1.49651011794217\n",
       "vectors:\n",
       "3×3 Array{Float64,2}:\n",
       "  0.261908   0.962095   0.0760051\n",
       " -0.686825   0.241139  -0.685655\n",
       "  0.677993  -0.127377  -0.723948"
      ]
     },
     "execution_count": 21,
     "metadata": {},
     "output_type": "execute_result"
    }
   ],
   "source": [
    "Asym = A+A'\n",
    "AsymEig = eigen(Asym)"
   ]
  },
  {
   "cell_type": "code",
   "execution_count": 22,
   "id": "noted-party",
   "metadata": {},
   "outputs": [
    {
     "data": {
      "text/plain": [
       "3-element Array{Float64,1}:\n",
       " -1.8764239893345112\n",
       "  0.46332369269878937\n",
       "  1.49651011794217"
      ]
     },
     "execution_count": 22,
     "metadata": {},
     "output_type": "execute_result"
    }
   ],
   "source": [
    "AsymEig.values"
   ]
  },
  {
   "cell_type": "code",
   "execution_count": 23,
   "id": "appointed-norway",
   "metadata": {},
   "outputs": [
    {
     "data": {
      "text/plain": [
       "3×3 Array{Float64,2}:\n",
       "  0.261908   0.962095   0.0760051\n",
       " -0.686825   0.241139  -0.685655\n",
       "  0.677993  -0.127377  -0.723948"
      ]
     },
     "execution_count": 23,
     "metadata": {},
     "output_type": "execute_result"
    }
   ],
   "source": [
    "AsymEig.vectors"
   ]
  },
  {
   "cell_type": "code",
   "execution_count": 26,
   "id": "seven-hospital",
   "metadata": {},
   "outputs": [
    {
     "data": {
      "text/plain": [
       "SVD{Float64,Float64,Array{Float64,2}}\n",
       "U factor:\n",
       "3×2 Array{Float64,2}:\n",
       " -0.787743  -0.61452\n",
       "  0.416624  -0.582589\n",
       " -0.453746   0.531935\n",
       "singular values:\n",
       "2-element Array{Float64,1}:\n",
       " 1.2041897953602767\n",
       " 0.8868685467474354\n",
       "Vt factor:\n",
       "2×2 Array{Float64,2}:\n",
       " -0.615553  -0.788096\n",
       "  0.788096  -0.615553"
      ]
     },
     "execution_count": 26,
     "metadata": {},
     "output_type": "execute_result"
    }
   ],
   "source": [
    "Asvd = svd(A[:, 1:2])"
   ]
  },
  {
   "cell_type": "code",
   "execution_count": 27,
   "id": "established-folks",
   "metadata": {},
   "outputs": [
    {
     "data": {
      "text/plain": [
       "2-element Array{Float64,1}:\n",
       " 0.07600682764678404\n",
       " 0.08304964224083501"
      ]
     },
     "execution_count": 27,
     "metadata": {},
     "output_type": "execute_result"
    }
   ],
   "source": [
    "Asvd\\b"
   ]
  },
  {
   "cell_type": "code",
   "execution_count": 28,
   "id": "spanish-routine",
   "metadata": {},
   "outputs": [
    {
     "data": {
      "text/plain": [
       "3×3 Array{Float64,2}:\n",
       "  0.154397   1.08306    -1.18045\n",
       " -0.716013  -0.0773396   1.46216\n",
       "  0.708125   0.140221   -0.0353529"
      ]
     },
     "execution_count": 28,
     "metadata": {},
     "output_type": "execute_result"
    }
   ],
   "source": [
    "A"
   ]
  },
  {
   "cell_type": "code",
   "execution_count": 29,
   "id": "realistic-chart",
   "metadata": {},
   "outputs": [
    {
     "data": {
      "text/plain": [
       "3×3 Diagonal{Float64,Array{Float64,1}}:\n",
       " 0.154397    ⋅           ⋅ \n",
       "  ⋅        -0.0773396    ⋅ \n",
       "  ⋅          ⋅         -0.0353529"
      ]
     },
     "execution_count": 29,
     "metadata": {},
     "output_type": "execute_result"
    }
   ],
   "source": [
    "Diagonal(diag(A))"
   ]
  },
  {
   "cell_type": "code",
   "execution_count": 30,
   "id": "private-expense",
   "metadata": {},
   "outputs": [
    {
     "data": {
      "text/plain": [
       "3×3 Diagonal{Float64,Array{Float64,1}}:\n",
       " 0.154397    ⋅           ⋅ \n",
       "  ⋅        -0.0773396    ⋅ \n",
       "  ⋅          ⋅         -0.0353529"
      ]
     },
     "execution_count": 30,
     "metadata": {},
     "output_type": "execute_result"
    }
   ],
   "source": [
    "Diagonal(A)"
   ]
  },
  {
   "cell_type": "code",
   "execution_count": 31,
   "id": "continuous-dublin",
   "metadata": {},
   "outputs": [
    {
     "data": {
      "text/plain": [
       "3×3 Symmetric{Float64,Array{Float64,2}}:\n",
       "  0.308795   0.367044  -0.472324\n",
       "  0.367044  -0.154679   1.60239\n",
       " -0.472324   1.60239   -0.0707057"
      ]
     },
     "execution_count": 31,
     "metadata": {},
     "output_type": "execute_result"
    }
   ],
   "source": [
    "Symmetric(Asym)"
   ]
  },
  {
   "cell_type": "code",
   "execution_count": 32,
   "id": "stuffed-saskatchewan",
   "metadata": {},
   "outputs": [
    {
     "data": {
      "text/plain": [
       "3×3 LowerTriangular{Float64,Array{Float64,2}}:\n",
       "  0.154397    ⋅           ⋅ \n",
       " -0.716013  -0.0773396    ⋅ \n",
       "  0.708125   0.140221   -0.0353529"
      ]
     },
     "execution_count": 32,
     "metadata": {},
     "output_type": "execute_result"
    }
   ],
   "source": [
    "LowerTriangular(A)"
   ]
  },
  {
   "cell_type": "code",
   "execution_count": 33,
   "id": "right-bailey",
   "metadata": {},
   "outputs": [
    {
     "data": {
      "text/plain": [
       "3×3 SymTridiagonal{Float64,Array{Float64,1}}:\n",
       " 0.308795   0.367044    ⋅ \n",
       " 0.367044  -0.154679   1.60239\n",
       "  ⋅         1.60239   -0.0707057"
      ]
     },
     "execution_count": 33,
     "metadata": {},
     "output_type": "execute_result"
    }
   ],
   "source": [
    "SymTridiagonal(diag(Asym), diag(Asym, 1))"
   ]
  },
  {
   "cell_type": "code",
   "execution_count": 34,
   "id": "inside-sheep",
   "metadata": {},
   "outputs": [
    {
     "name": "stdout",
     "output_type": "stream",
     "text": [
      "true\n",
      "false\n"
     ]
    }
   ],
   "source": [
    "n = 1000\n",
    "A = randn(n, n)\n",
    "Asym1 = A+A'\n",
    "Asym2 = copy(Asym1); Asym2[1,2] += 5eps();\n",
    "println(issymmetric(Asym1))\n",
    "println(issymmetric(Asym2))"
   ]
  },
  {
   "cell_type": "code",
   "execution_count": 36,
   "id": "aquatic-sacramento",
   "metadata": {},
   "outputs": [
    {
     "name": "stdout",
     "output_type": "stream",
     "text": [
      "  0.157446 seconds (12 allocations: 7.989 MiB, 6.73% gc time)\n"
     ]
    }
   ],
   "source": [
    "@time eigvals(Asym1);"
   ]
  },
  {
   "cell_type": "code",
   "execution_count": 37,
   "id": "express-buddy",
   "metadata": {},
   "outputs": [
    {
     "name": "stdout",
     "output_type": "stream",
     "text": [
      "  1.523691 seconds (14 allocations: 7.921 MiB)\n"
     ]
    }
   ],
   "source": [
    "@time eigvals(Asym2);"
   ]
  },
  {
   "cell_type": "code",
   "execution_count": 38,
   "id": "technological-machinery",
   "metadata": {},
   "outputs": [
    {
     "name": "stdout",
     "output_type": "stream",
     "text": [
      "  0.155276 seconds (6.70 k allocations: 8.324 MiB)\n"
     ]
    }
   ],
   "source": [
    "@time eigvals(Symmetric(Asym2));"
   ]
  },
  {
   "cell_type": "code",
   "execution_count": 39,
   "id": "polyphonic-italian",
   "metadata": {},
   "outputs": [
    {
     "data": {
      "text/plain": [
       "3×3 Array{Int64,2}:\n",
       " 182  131  135\n",
       " 110   68   62\n",
       " 191  135  146"
      ]
     },
     "execution_count": 39,
     "metadata": {},
     "output_type": "execute_result"
    }
   ],
   "source": [
    "rand(1:10, 3, 3)*rand(1:10, 3, 3)"
   ]
  },
  {
   "cell_type": "code",
   "execution_count": 43,
   "id": "informative-calibration",
   "metadata": {},
   "outputs": [
    {
     "data": {
      "text/plain": [
       "3×3 Array{Rational{BigInt},2}:\n",
       " 9//10  1//1   7//10\n",
       " 3//10  2//5   4//5\n",
       " 1//1   9//10  1//5"
      ]
     },
     "execution_count": 43,
     "metadata": {},
     "output_type": "execute_result"
    }
   ],
   "source": [
    "Ar = convert(Matrix{Rational{BigInt}}, rand(1:10, 3, 3))/10"
   ]
  },
  {
   "cell_type": "code",
   "execution_count": 44,
   "id": "mineral-dialogue",
   "metadata": {},
   "outputs": [
    {
     "data": {
      "text/plain": [
       "3-element Array{Rational{BigInt},1}:\n",
       " 13//5\n",
       "  3//2\n",
       " 21//10"
      ]
     },
     "execution_count": 44,
     "metadata": {},
     "output_type": "execute_result"
    }
   ],
   "source": [
    "x = ones(Int, 3)\n",
    "b = Ar*x"
   ]
  },
  {
   "cell_type": "code",
   "execution_count": 45,
   "id": "looking-album",
   "metadata": {},
   "outputs": [
    {
     "data": {
      "text/plain": [
       "LU{Rational{BigInt},Array{Rational{BigInt},2}}\n",
       "L factor:\n",
       "3×3 Array{Rational{BigInt},2}:\n",
       " 1//1    0//1   0//1\n",
       " 9//10   1//1   0//1\n",
       " 3//10  13//19  1//1\n",
       "U factor:\n",
       "3×3 Array{Rational{BigInt},2}:\n",
       " 1//1   9//10    1//5\n",
       " 0//1  19//100  13//25\n",
       " 0//1   0//1    73//190"
      ]
     },
     "execution_count": 45,
     "metadata": {},
     "output_type": "execute_result"
    }
   ],
   "source": [
    "lu(Ar)"
   ]
  },
  {
   "cell_type": "code",
   "execution_count": null,
   "id": "statewide-coach",
   "metadata": {},
   "outputs": [],
   "source": []
  }
 ],
 "metadata": {
  "kernelspec": {
   "display_name": "Julia 1.4.1",
   "language": "julia",
   "name": "julia-1.4"
  },
  "language_info": {
   "file_extension": ".jl",
   "mimetype": "application/julia",
   "name": "julia",
   "version": "1.4.1"
  }
 },
 "nbformat": 4,
 "nbformat_minor": 5
}
