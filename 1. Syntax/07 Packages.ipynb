{
 "cells": [
  {
   "cell_type": "code",
   "execution_count": 1,
   "id": "precious-naples",
   "metadata": {},
   "outputs": [
    {
     "name": "stderr",
     "output_type": "stream",
     "text": [
      "\u001b[32m\u001b[1m   Updating\u001b[22m\u001b[39m registry at `~/.julia/registries/General`\n"
     ]
    },
    {
     "name": "stdout",
     "output_type": "stream",
     "text": [
      "\u001b[?25l    "
     ]
    },
    {
     "name": "stderr",
     "output_type": "stream",
     "text": [
      "\u001b[32m\u001b[1m   Updating\u001b[22m\u001b[39m git-repo `https://github.com/JuliaRegistries/General.git`\n"
     ]
    },
    {
     "name": "stdout",
     "output_type": "stream",
     "text": [
      "\u001b[2K\u001b[?25h[1mFetching:\u001b[22m\u001b[39m [========================================>]  100.0 %2.6 %"
     ]
    },
    {
     "name": "stderr",
     "output_type": "stream",
     "text": [
      "\u001b[32m\u001b[1m  Resolving\u001b[22m\u001b[39m package versions...\n",
      "\u001b[32m\u001b[1m  Installed\u001b[22m\u001b[39m Example ─ v0.5.3\n",
      "\u001b[32m\u001b[1m   Updating\u001b[22m\u001b[39m `~/.julia/environments/v1.4/Project.toml`\n",
      " \u001b[90m [7876af07]\u001b[39m\u001b[92m + Example v0.5.3\u001b[39m\n",
      "\u001b[32m\u001b[1m   Updating\u001b[22m\u001b[39m `~/.julia/environments/v1.4/Manifest.toml`\n",
      " \u001b[90m [7876af07]\u001b[39m\u001b[92m + Example v0.5.3\u001b[39m\n"
     ]
    }
   ],
   "source": [
    "using Pkg\n",
    "Pkg.add(\"Example\")"
   ]
  },
  {
   "cell_type": "code",
   "execution_count": 2,
   "id": "electrical-share",
   "metadata": {},
   "outputs": [
    {
     "name": "stderr",
     "output_type": "stream",
     "text": [
      "┌ Info: Precompiling Example [7876af07-990d-54b4-ab0e-23690620f79a]\n",
      "└ @ Base loading.jl:1260\n"
     ]
    }
   ],
   "source": [
    "using Example"
   ]
  },
  {
   "cell_type": "code",
   "execution_count": 3,
   "id": "planned-floating",
   "metadata": {},
   "outputs": [
    {
     "data": {
      "text/plain": [
       "\"Hello, HI\""
      ]
     },
     "execution_count": 3,
     "metadata": {},
     "output_type": "execute_result"
    }
   ],
   "source": [
    "hello(\"HI\")"
   ]
  },
  {
   "cell_type": "code",
   "execution_count": 4,
   "id": "expressed-prospect",
   "metadata": {},
   "outputs": [
    {
     "name": "stderr",
     "output_type": "stream",
     "text": [
      "\u001b[32m\u001b[1m  Resolving\u001b[22m\u001b[39m package versions...\n",
      "\u001b[32m\u001b[1m  Installed\u001b[22m\u001b[39m Reexport ────────── v1.1.0\n",
      "\u001b[32m\u001b[1m  Installed\u001b[22m\u001b[39m FixedPointNumbers ─ v0.8.4\n",
      "\u001b[32m\u001b[1m  Installed\u001b[22m\u001b[39m ColorTypes ──────── v0.11.0\n",
      "\u001b[32m\u001b[1m  Installed\u001b[22m\u001b[39m Colors ──────────── v0.12.8\n",
      "\u001b[32m\u001b[1m   Updating\u001b[22m\u001b[39m `~/.julia/environments/v1.4/Project.toml`\n",
      " \u001b[90m [5ae59095]\u001b[39m\u001b[92m + Colors v0.12.8\u001b[39m\n",
      "\u001b[32m\u001b[1m   Updating\u001b[22m\u001b[39m `~/.julia/environments/v1.4/Manifest.toml`\n",
      " \u001b[90m [3da002f7]\u001b[39m\u001b[92m + ColorTypes v0.11.0\u001b[39m\n",
      " \u001b[90m [5ae59095]\u001b[39m\u001b[92m + Colors v0.12.8\u001b[39m\n",
      " \u001b[90m [53c48c17]\u001b[39m\u001b[92m + FixedPointNumbers v0.8.4\u001b[39m\n",
      " \u001b[90m [189a3867]\u001b[39m\u001b[92m + Reexport v1.1.0\u001b[39m\n",
      " \u001b[90m [37e2e46d]\u001b[39m\u001b[92m + LinearAlgebra \u001b[39m\n",
      " \u001b[90m [2f01184e]\u001b[39m\u001b[92m + SparseArrays \u001b[39m\n",
      " \u001b[90m [10745b16]\u001b[39m\u001b[92m + Statistics \u001b[39m\n",
      "┌ Info: Precompiling Colors [5ae59095-9a9b-59fe-a467-6f913c188581]\n",
      "└ @ Base loading.jl:1260\n"
     ]
    }
   ],
   "source": [
    "Pkg.add(\"Colors\")\n",
    "using Colors"
   ]
  },
  {
   "cell_type": "code",
   "execution_count": 5,
   "id": "national-possibility",
   "metadata": {},
   "outputs": [
    {
     "name": "stderr",
     "output_type": "stream",
     "text": [
      "\u001b[32m\u001b[1m  Resolving\u001b[22m\u001b[39m package versions...\n",
      "\u001b[32m\u001b[1m  Installed\u001b[22m\u001b[39m DataValueInterfaces ───────── v1.0.0\n",
      "\u001b[32m\u001b[1m  Installed\u001b[22m\u001b[39m IteratorInterfaceExtensions ─ v1.0.0\n",
      "\u001b[32m\u001b[1m  Installed\u001b[22m\u001b[39m Opus_jll ──────────────────── v1.3.1+3\n",
      "\u001b[32m\u001b[1m  Installed\u001b[22m\u001b[39m Ogg_jll ───────────────────── v1.3.4+2\n",
      "\u001b[32m\u001b[1m  Installed\u001b[22m\u001b[39m LibVPX_jll ────────────────── v1.9.0+1\n",
      "\u001b[32m\u001b[1m  Installed\u001b[22m\u001b[39m Plots ─────────────────────── v1.6.12\n",
      "\u001b[32m\u001b[1m  Installed\u001b[22m\u001b[39m RecipesPipeline ───────────── v0.1.13\n",
      "\u001b[32m\u001b[1m  Installed\u001b[22m\u001b[39m FriBidi_jll ───────────────── v1.0.5+6\n",
      "\u001b[32m\u001b[1m  Installed\u001b[22m\u001b[39m Showoff ───────────────────── v0.3.2\n",
      "\u001b[32m\u001b[1m  Installed\u001b[22m\u001b[39m PlotUtils ─────────────────── v1.0.11\n",
      "\u001b[32m\u001b[1m  Installed\u001b[22m\u001b[39m x264_jll ──────────────────── v2020.7.14+2\n",
      "\u001b[32m\u001b[1m  Installed\u001b[22m\u001b[39m FreeType2_jll ─────────────── v2.10.1+5\n",
      "\u001b[32m\u001b[1m  Installed\u001b[22m\u001b[39m GeometryTypes ─────────────── v0.8.4\n",
      "\u001b[32m\u001b[1m  Installed\u001b[22m\u001b[39m ColorTypes ────────────────── v0.10.12\n",
      "\u001b[32m\u001b[1m  Installed\u001b[22m\u001b[39m libvorbis_jll ─────────────── v1.3.6+6\n",
      "\u001b[32m\u001b[1m  Installed\u001b[22m\u001b[39m LAME_jll ──────────────────── v3.100.0+3\n",
      "\u001b[32m\u001b[1m  Installed\u001b[22m\u001b[39m Tables ────────────────────── v1.4.4\n",
      "\u001b[32m\u001b[1m  Installed\u001b[22m\u001b[39m PlotThemes ────────────────── v2.0.1\n",
      "\u001b[32m\u001b[1m  Installed\u001b[22m\u001b[39m StructArrays ──────────────── v0.6.0\n",
      "\u001b[32m\u001b[1m  Installed\u001b[22m\u001b[39m StatsAPI ──────────────────── v1.0.0\n",
      "\u001b[32m\u001b[1m  Installed\u001b[22m\u001b[39m Compat ────────────────────── v3.31.0\n",
      "\u001b[32m\u001b[1m  Installed\u001b[22m\u001b[39m EarCut_jll ────────────────── v2.1.5+1\n",
      "\u001b[32m\u001b[1m  Installed\u001b[22m\u001b[39m Adapt ─────────────────────── v3.3.1\n",
      "\u001b[32m\u001b[1m  Installed\u001b[22m\u001b[39m Missings ──────────────────── v1.0.0\n",
      "\u001b[32m\u001b[1m  Installed\u001b[22m\u001b[39m NaNMath ───────────────────── v0.3.5\n",
      "\u001b[32m\u001b[1m  Installed\u001b[22m\u001b[39m Bzip2_jll ─────────────────── v1.0.6+5\n",
      "\u001b[32m\u001b[1m  Installed\u001b[22m\u001b[39m Grisu ─────────────────────── v1.0.2\n",
      "\u001b[32m\u001b[1m  Installed\u001b[22m\u001b[39m SortingAlgorithms ─────────── v1.0.1\n",
      "\u001b[32m\u001b[1m  Installed\u001b[22m\u001b[39m Formatting ────────────────── v0.4.2\n",
      "\u001b[32m\u001b[1m  Installed\u001b[22m\u001b[39m DataAPI ───────────────────── v1.7.0\n",
      "\u001b[32m\u001b[1m  Installed\u001b[22m\u001b[39m x265_jll ──────────────────── v3.0.0+3\n",
      "\u001b[32m\u001b[1m  Installed\u001b[22m\u001b[39m Contour ───────────────────── v0.5.7\n",
      "\u001b[32m\u001b[1m  Installed\u001b[22m\u001b[39m RecipesBase ───────────────── v1.1.1\n",
      "\u001b[32m\u001b[1m  Installed\u001b[22m\u001b[39m ColorSchemes ──────────────── v3.13.0\n",
      "\u001b[32m\u001b[1m  Installed\u001b[22m\u001b[39m DataStructures ────────────── v0.18.9\n",
      "\u001b[32m\u001b[1m  Installed\u001b[22m\u001b[39m Measures ──────────────────── v0.3.1\n",
      "\u001b[32m\u001b[1m  Installed\u001b[22m\u001b[39m libass_jll ────────────────── v0.14.0+4\n",
      "\u001b[32m\u001b[1m  Installed\u001b[22m\u001b[39m LaTeXStrings ──────────────── v1.2.1\n",
      "\u001b[32m\u001b[1m  Installed\u001b[22m\u001b[39m libfdk_aac_jll ────────────── v0.1.6+4\n",
      "\u001b[32m\u001b[1m  Installed\u001b[22m\u001b[39m Latexify ──────────────────── v0.14.12\n",
      "\u001b[32m\u001b[1m  Installed\u001b[22m\u001b[39m StaticArrays ──────────────── v1.2.6\n",
      "\u001b[32m\u001b[1m  Installed\u001b[22m\u001b[39m GR ────────────────────────── v0.52.0\n",
      "\u001b[32m\u001b[1m  Installed\u001b[22m\u001b[39m Zlib_jll ──────────────────── v1.2.11+18\n",
      "\u001b[32m\u001b[1m  Installed\u001b[22m\u001b[39m FFMPEG ────────────────────── v0.4.1\n",
      "\u001b[32m\u001b[1m  Installed\u001b[22m\u001b[39m IniFile ───────────────────── v0.5.0\n",
      "\u001b[32m\u001b[1m  Installed\u001b[22m\u001b[39m HTTP ──────────────────────── v0.8.19\n",
      "\u001b[32m\u001b[1m  Installed\u001b[22m\u001b[39m FFMPEG_jll ────────────────── v4.3.1+4\n",
      "\u001b[32m\u001b[1m  Installed\u001b[22m\u001b[39m IterTools ─────────────────── v1.3.0\n",
      "\u001b[32m\u001b[1m  Installed\u001b[22m\u001b[39m TableTraits ───────────────── v1.0.1\n",
      "\u001b[32m\u001b[1m  Installed\u001b[22m\u001b[39m GeometryBasics ────────────── v0.3.13\n",
      "\u001b[32m\u001b[1m  Installed\u001b[22m\u001b[39m Reexport ──────────────────── v0.2.0\n",
      "\u001b[32m\u001b[1m  Installed\u001b[22m\u001b[39m OpenSSL_jll ───────────────── v1.1.1+6\n",
      "\u001b[32m\u001b[1m  Installed\u001b[22m\u001b[39m StatsBase ─────────────────── v0.33.8\n",
      "\u001b[32m\u001b[1m  Installed\u001b[22m\u001b[39m Requires ──────────────────── v1.1.3\n",
      "\u001b[32m\u001b[1m  Installed\u001b[22m\u001b[39m OrderedCollections ────────── v1.4.1\n",
      "\u001b[32m\u001b[1m  Installed\u001b[22m\u001b[39m MacroTools ────────────────── v0.5.6\n",
      "######################################################################### 100.0%##O=#  #                                                                       \n",
      "######################################################################### 100.0%######################### 100.0%##O#- #                                                                        \n",
      "######################################################################### 100.0%##O#- #                                                                        \n",
      "######################################################################### 100.0%##O=#  #                                                                       \n",
      "######################################################################### 100.0%##O#- #                                                                        \n",
      "######################################################################### 100.0%##O=#  #                                                                       \n",
      "######################################################################### 100.0%##O=#  #                                                                       \n",
      "######################################################################### 100.0%##O=#  #                                                                       \n",
      "######################################################################### 100.0%##O#- #                                                                        \n",
      "######################################################################### 100.0%##O#- #                                                                        \n",
      "######################################################################### 100.0%##O=#  #                                                                       \n",
      "######################################################################### 100.0%##O#- #                                                                        \n",
      "######################################################################### 100.0%##O=#  #                                                                       \n",
      "#####################################                                      51.1%##O=#  #                                                                       ################################################## 100.0%\n",
      "########################################################################   99.1%##O=#  #                                                                        12.3%## 100.0%\n",
      "######################################################################### 100.0%##O=#  #                                                                       \n",
      "\u001b[32m\u001b[1m   Updating\u001b[22m\u001b[39m `~/.julia/environments/v1.4/Project.toml`\n",
      " \u001b[90m [91a5bcdd]\u001b[39m\u001b[92m + Plots v1.6.12\u001b[39m\n",
      "\u001b[32m\u001b[1m   Updating\u001b[22m\u001b[39m `~/.julia/environments/v1.4/Manifest.toml`\n",
      " \u001b[90m [79e6a3ab]\u001b[39m\u001b[92m + Adapt v3.3.1\u001b[39m\n",
      " \u001b[90m [6e34b625]\u001b[39m\u001b[92m + Bzip2_jll v1.0.6+5\u001b[39m\n",
      " \u001b[90m [35d6a980]\u001b[39m\u001b[92m + ColorSchemes v3.13.0\u001b[39m\n",
      " \u001b[90m [3da002f7]\u001b[39m\u001b[95m ↓ ColorTypes v0.11.0 ⇒ v0.10.12\u001b[39m\n",
      " \u001b[90m [34da2185]\u001b[39m\u001b[92m + Compat v3.31.0\u001b[39m\n",
      " \u001b[90m [d38c429a]\u001b[39m\u001b[92m + Contour v0.5.7\u001b[39m\n",
      " \u001b[90m [9a962f9c]\u001b[39m\u001b[92m + DataAPI v1.7.0\u001b[39m\n",
      " \u001b[90m [864edb3b]\u001b[39m\u001b[92m + DataStructures v0.18.9\u001b[39m\n",
      " \u001b[90m [e2d170a0]\u001b[39m\u001b[92m + DataValueInterfaces v1.0.0\u001b[39m\n",
      " \u001b[90m [5ae413db]\u001b[39m\u001b[92m + EarCut_jll v2.1.5+1\u001b[39m\n",
      " \u001b[90m [c87230d0]\u001b[39m\u001b[92m + FFMPEG v0.4.1\u001b[39m\n",
      " \u001b[90m [b22a6f82]\u001b[39m\u001b[92m + FFMPEG_jll v4.3.1+4\u001b[39m\n",
      " \u001b[90m [59287772]\u001b[39m\u001b[92m + Formatting v0.4.2\u001b[39m\n",
      " \u001b[90m [d7e528f0]\u001b[39m\u001b[92m + FreeType2_jll v2.10.1+5\u001b[39m\n",
      " \u001b[90m [559328eb]\u001b[39m\u001b[92m + FriBidi_jll v1.0.5+6\u001b[39m\n",
      " \u001b[90m [28b8d3ca]\u001b[39m\u001b[92m + GR v0.52.0\u001b[39m\n",
      " \u001b[90m [5c1252a2]\u001b[39m\u001b[92m + GeometryBasics v0.3.13\u001b[39m\n",
      " \u001b[90m [4d00f742]\u001b[39m\u001b[92m + GeometryTypes v0.8.4\u001b[39m\n",
      " \u001b[90m [42e2da0e]\u001b[39m\u001b[92m + Grisu v1.0.2\u001b[39m\n",
      " \u001b[90m [cd3eb016]\u001b[39m\u001b[92m + HTTP v0.8.19\u001b[39m\n",
      " \u001b[90m [83e8ac13]\u001b[39m\u001b[92m + IniFile v0.5.0\u001b[39m\n",
      " \u001b[90m [c8e1da08]\u001b[39m\u001b[92m + IterTools v1.3.0\u001b[39m\n",
      " \u001b[90m [82899510]\u001b[39m\u001b[92m + IteratorInterfaceExtensions v1.0.0\u001b[39m\n",
      " \u001b[90m [c1c5ebd0]\u001b[39m\u001b[92m + LAME_jll v3.100.0+3\u001b[39m\n",
      " \u001b[90m [b964fa9f]\u001b[39m\u001b[92m + LaTeXStrings v1.2.1\u001b[39m\n",
      " \u001b[90m [23fbe1c1]\u001b[39m\u001b[92m + Latexify v0.14.12\u001b[39m\n",
      " \u001b[90m [dd192d2f]\u001b[39m\u001b[92m + LibVPX_jll v1.9.0+1\u001b[39m\n",
      " \u001b[90m [1914dd2f]\u001b[39m\u001b[92m + MacroTools v0.5.6\u001b[39m\n",
      " \u001b[90m [442fdcdd]\u001b[39m\u001b[92m + Measures v0.3.1\u001b[39m\n",
      " \u001b[90m [e1d29d7a]\u001b[39m\u001b[92m + Missings v1.0.0\u001b[39m\n",
      " \u001b[90m [77ba4419]\u001b[39m\u001b[92m + NaNMath v0.3.5\u001b[39m\n",
      " \u001b[90m [e7412a2a]\u001b[39m\u001b[92m + Ogg_jll v1.3.4+2\u001b[39m\n",
      " \u001b[90m [458c3c95]\u001b[39m\u001b[92m + OpenSSL_jll v1.1.1+6\u001b[39m\n",
      " \u001b[90m [91d4177d]\u001b[39m\u001b[92m + Opus_jll v1.3.1+3\u001b[39m\n",
      " \u001b[90m [bac558e1]\u001b[39m\u001b[92m + OrderedCollections v1.4.1\u001b[39m\n",
      " \u001b[90m [ccf2f8ad]\u001b[39m\u001b[92m + PlotThemes v2.0.1\u001b[39m\n",
      " \u001b[90m [995b91a9]\u001b[39m\u001b[92m + PlotUtils v1.0.11\u001b[39m\n",
      " \u001b[90m [91a5bcdd]\u001b[39m\u001b[92m + Plots v1.6.12\u001b[39m\n",
      " \u001b[90m [3cdcf5f2]\u001b[39m\u001b[92m + RecipesBase v1.1.1\u001b[39m\n",
      " \u001b[90m [01d81517]\u001b[39m\u001b[92m + RecipesPipeline v0.1.13\u001b[39m\n",
      " \u001b[90m [189a3867]\u001b[39m\u001b[95m ↓ Reexport v1.1.0 ⇒ v0.2.0\u001b[39m\n",
      " \u001b[90m [ae029012]\u001b[39m\u001b[92m + Requires v1.1.3\u001b[39m\n",
      " \u001b[90m [992d4aef]\u001b[39m\u001b[92m + Showoff v0.3.2\u001b[39m\n",
      " \u001b[90m [a2af1166]\u001b[39m\u001b[92m + SortingAlgorithms v1.0.1\u001b[39m\n",
      " \u001b[90m [90137ffa]\u001b[39m\u001b[92m + StaticArrays v1.2.6\u001b[39m\n",
      " \u001b[90m [82ae8749]\u001b[39m\u001b[92m + StatsAPI v1.0.0\u001b[39m\n",
      " \u001b[90m [2913bbd2]\u001b[39m\u001b[92m + StatsBase v0.33.8\u001b[39m\n",
      " \u001b[90m [09ab397b]\u001b[39m\u001b[92m + StructArrays v0.6.0\u001b[39m\n",
      " \u001b[90m [3783bdb8]\u001b[39m\u001b[92m + TableTraits v1.0.1\u001b[39m\n",
      " \u001b[90m [bd369af6]\u001b[39m\u001b[92m + Tables v1.4.4\u001b[39m\n",
      " \u001b[90m [83775a58]\u001b[39m\u001b[92m + Zlib_jll v1.2.11+18\u001b[39m\n",
      " \u001b[90m [0ac62f75]\u001b[39m\u001b[92m + libass_jll v0.14.0+4\u001b[39m\n",
      " \u001b[90m [f638f0a6]\u001b[39m\u001b[92m + libfdk_aac_jll v0.1.6+4\u001b[39m\n",
      " \u001b[90m [f27f6e37]\u001b[39m\u001b[92m + libvorbis_jll v1.3.6+6\u001b[39m\n",
      " \u001b[90m [1270edf5]\u001b[39m\u001b[92m + x264_jll v2020.7.14+2\u001b[39m\n",
      " \u001b[90m [dfaa095f]\u001b[39m\u001b[92m + x265_jll v3.0.0+3\u001b[39m\n",
      " \u001b[90m [8bb1440f]\u001b[39m\u001b[92m + DelimitedFiles \u001b[39m\n",
      " \u001b[90m [1a1011a3]\u001b[39m\u001b[92m + SharedArrays \u001b[39m\n",
      "\u001b[32m\u001b[1m   Building\u001b[22m\u001b[39m GR → `~/.julia/packages/GR/BwGt2/deps/build.log`\n",
      "┌ Info: Precompiling Plots [91a5bcdd-55d7-5caf-9e0b-520d859cae80]\n",
      "└ @ Base loading.jl:1260\n",
      "┌ Warning: Module PlotUtils with build ID 4328032587456 is missing from the cache.\n",
      "│ This may mean PlotUtils [995b91a9-d308-5afd-9ec6-746e21dbc043] does not support precompilation but is imported by a module that does.\n",
      "└ @ Base loading.jl:1016\n",
      "┌ Warning: The call to compilecache failed to create a usable precompiled cache file for Plots [91a5bcdd-55d7-5caf-9e0b-520d859cae80]\n",
      "│   exception = ErrorException(\"Required dependency ColorSchemes [35d6a980-a343-548e-a6ea-1d62b119f2f4] failed to load from a cache file.\")\n",
      "└ @ Base loading.jl:1041\n",
      "┌ Info: Precompiling GeometryTypes [4d00f742-c7ba-57c2-abde-4428a4b178cb]\n",
      "└ @ Base loading.jl:1260\n",
      "┌ Warning: Module ColorTypes with build ID 3517032804160 is missing from the cache.\n",
      "│ This may mean ColorTypes [3da002f7-5984-5a60-b8a6-cbb66c0b333f] does not support precompilation but is imported by a module that does.\n",
      "└ @ Base loading.jl:1016\n",
      "┌ Info: Skipping precompilation since __precompile__(false). Importing GeometryTypes [4d00f742-c7ba-57c2-abde-4428a4b178cb].\n",
      "└ @ Base loading.jl:1033\n",
      "┌ Info: Precompiling PlotUtils [995b91a9-d308-5afd-9ec6-746e21dbc043]\n",
      "└ @ Base loading.jl:1260\n",
      "┌ Warning: Module Colors with build ID 3515090182611 is missing from the cache.\n",
      "│ This may mean Colors [5ae59095-9a9b-59fe-a467-6f913c188581] does not support precompilation but is imported by a module that does.\n",
      "└ @ Base loading.jl:1016\n",
      "┌ Warning: Module Colors with build ID 3515090182611 is missing from the cache.\n",
      "│ This may mean Colors [5ae59095-9a9b-59fe-a467-6f913c188581] does not support precompilation but is imported by a module that does.\n",
      "└ @ Base loading.jl:1016\n",
      "┌ Info: Skipping precompilation since __precompile__(false). Importing PlotUtils [995b91a9-d308-5afd-9ec6-746e21dbc043].\n",
      "└ @ Base loading.jl:1033\n",
      "┌ Info: Precompiling ColorSchemes [35d6a980-a343-548e-a6ea-1d62b119f2f4]\n",
      "└ @ Base loading.jl:1260\n",
      "┌ Warning: Module Colors with build ID 3515090182611 is missing from the cache.\n",
      "│ This may mean Colors [5ae59095-9a9b-59fe-a467-6f913c188581] does not support precompilation but is imported by a module that does.\n",
      "└ @ Base loading.jl:1016\n",
      "┌ Info: Skipping precompilation since __precompile__(false). Importing ColorSchemes [35d6a980-a343-548e-a6ea-1d62b119f2f4].\n",
      "└ @ Base loading.jl:1033\n",
      "┌ Info: Precompiling PlotThemes [ccf2f8ad-2431-5c83-bf29-c5338b663b6a]\n",
      "└ @ Base loading.jl:1260\n",
      "┌ Warning: Module PlotUtils with build ID 4421744715506 is missing from the cache.\n",
      "│ This may mean PlotUtils [995b91a9-d308-5afd-9ec6-746e21dbc043] does not support precompilation but is imported by a module that does.\n",
      "└ @ Base loading.jl:1016\n",
      "┌ Info: Skipping precompilation since __precompile__(false). Importing PlotThemes [ccf2f8ad-2431-5c83-bf29-c5338b663b6a].\n",
      "└ @ Base loading.jl:1033\n",
      "┌ Info: Precompiling RecipesPipeline [01d81517-befc-4cb6-b9ec-a95719d0359c]\n",
      "└ @ Base loading.jl:1260\n",
      "┌ Warning: Module PlotUtils with build ID 4421744715506 is missing from the cache.\n",
      "│ This may mean PlotUtils [995b91a9-d308-5afd-9ec6-746e21dbc043] does not support precompilation but is imported by a module that does.\n",
      "└ @ Base loading.jl:1016\n",
      "┌ Info: Skipping precompilation since __precompile__(false). Importing RecipesPipeline [01d81517-befc-4cb6-b9ec-a95719d0359c].\n",
      "└ @ Base loading.jl:1033\n"
     ]
    }
   ],
   "source": [
    "Pkg.add(\"Plots\")\n",
    "using Plots"
   ]
  },
  {
   "cell_type": "code",
   "execution_count": null,
   "id": "legitimate-galaxy",
   "metadata": {},
   "outputs": [],
   "source": []
  }
 ],
 "metadata": {
  "kernelspec": {
   "display_name": "Julia 1.4.1",
   "language": "julia",
   "name": "julia-1.4"
  },
  "language_info": {
   "file_extension": ".jl",
   "mimetype": "application/julia",
   "name": "julia",
   "version": "1.4.1"
  }
 },
 "nbformat": 4,
 "nbformat_minor": 5
}
