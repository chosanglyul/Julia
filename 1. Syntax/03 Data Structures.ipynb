{
 "cells": [
  {
   "cell_type": "code",
   "execution_count": 1,
   "id": "cosmetic-judge",
   "metadata": {},
   "outputs": [
    {
     "data": {
      "text/plain": [
       "Dict{String,String} with 2 entries:\n",
       "  \"c\" => \"d\"\n",
       "  \"a\" => \"b\""
      ]
     },
     "execution_count": 1,
     "metadata": {},
     "output_type": "execute_result"
    }
   ],
   "source": [
    "dict = Dict(\"a\" => \"b\", \"c\" => \"d\")"
   ]
  },
  {
   "cell_type": "code",
   "execution_count": 2,
   "id": "common-incident",
   "metadata": {},
   "outputs": [
    {
     "data": {
      "text/plain": [
       "\"b\""
      ]
     },
     "execution_count": 2,
     "metadata": {},
     "output_type": "execute_result"
    }
   ],
   "source": [
    "dict[\"a\"]"
   ]
  },
  {
   "cell_type": "code",
   "execution_count": 4,
   "id": "spare-trout",
   "metadata": {},
   "outputs": [
    {
     "data": {
      "text/plain": [
       "\"b\""
      ]
     },
     "execution_count": 4,
     "metadata": {},
     "output_type": "execute_result"
    }
   ],
   "source": [
    "pop!(dict, \"a\")"
   ]
  },
  {
   "cell_type": "code",
   "execution_count": 5,
   "id": "removable-positive",
   "metadata": {},
   "outputs": [
    {
     "data": {
      "text/plain": [
       "Dict{String,String} with 1 entry:\n",
       "  \"c\" => \"d\""
      ]
     },
     "execution_count": 5,
     "metadata": {},
     "output_type": "execute_result"
    }
   ],
   "source": [
    "#NO pop(dict, key)...\n",
    "dict"
   ]
  },
  {
   "cell_type": "code",
   "execution_count": 6,
   "id": "surrounded-express",
   "metadata": {},
   "outputs": [
    {
     "data": {
      "text/plain": [
       "(\"a\", \"b\", \"c\")"
      ]
     },
     "execution_count": 6,
     "metadata": {},
     "output_type": "execute_result"
    }
   ],
   "source": [
    "tuple = (\"a\", \"b\", \"c\")"
   ]
  },
  {
   "cell_type": "code",
   "execution_count": 7,
   "id": "suspected-vegetation",
   "metadata": {},
   "outputs": [
    {
     "data": {
      "text/plain": [
       "\"a\""
      ]
     },
     "execution_count": 7,
     "metadata": {},
     "output_type": "execute_result"
    }
   ],
   "source": [
    "tuple[1]"
   ]
  },
  {
   "cell_type": "code",
   "execution_count": 8,
   "id": "innovative-disposition",
   "metadata": {},
   "outputs": [
    {
     "data": {
      "text/plain": [
       "(\"a\", \"b\", \"c\")"
      ]
     },
     "execution_count": 8,
     "metadata": {},
     "output_type": "execute_result"
    }
   ],
   "source": [
    "#tuple[1] = \"d\" ERROR!!\n",
    "tuple"
   ]
  },
  {
   "cell_type": "code",
   "execution_count": 9,
   "id": "chubby-taylor",
   "metadata": {},
   "outputs": [
    {
     "data": {
      "text/plain": [
       "3-element Array{String,1}:\n",
       " \"a\"\n",
       " \"b\"\n",
       " \"c\""
      ]
     },
     "execution_count": 9,
     "metadata": {},
     "output_type": "execute_result"
    }
   ],
   "source": [
    "array = [\"a\", \"b\", \"c\"]"
   ]
  },
  {
   "cell_type": "code",
   "execution_count": 10,
   "id": "heard-adrian",
   "metadata": {},
   "outputs": [
    {
     "data": {
      "text/plain": [
       "\"a\""
      ]
     },
     "execution_count": 10,
     "metadata": {},
     "output_type": "execute_result"
    }
   ],
   "source": [
    "array[1]"
   ]
  },
  {
   "cell_type": "code",
   "execution_count": 11,
   "id": "directed-sweden",
   "metadata": {},
   "outputs": [
    {
     "data": {
      "text/plain": [
       "3-element Array{String,1}:\n",
       " \"d\"\n",
       " \"b\"\n",
       " \"c\""
      ]
     },
     "execution_count": 11,
     "metadata": {},
     "output_type": "execute_result"
    }
   ],
   "source": [
    "array[1] = \"d\"\n",
    "array"
   ]
  },
  {
   "cell_type": "code",
   "execution_count": 12,
   "id": "laughing-presence",
   "metadata": {},
   "outputs": [
    {
     "data": {
      "text/plain": [
       "4-element Array{Any,1}:\n",
       "   \"a\"\n",
       "   'b'\n",
       " 20\n",
       "  3.0"
      ]
     },
     "execution_count": 12,
     "metadata": {},
     "output_type": "execute_result"
    }
   ],
   "source": [
    "mix = [\"a\", 'b', 20, 3.0]"
   ]
  },
  {
   "cell_type": "code",
   "execution_count": 13,
   "id": "applicable-queen",
   "metadata": {},
   "outputs": [
    {
     "data": {
      "text/plain": [
       "4-element Array{String,1}:\n",
       " \"d\"\n",
       " \"b\"\n",
       " \"c\"\n",
       " \"e\""
      ]
     },
     "execution_count": 13,
     "metadata": {},
     "output_type": "execute_result"
    }
   ],
   "source": [
    "push!(array, \"e\")"
   ]
  },
  {
   "cell_type": "code",
   "execution_count": 14,
   "id": "unexpected-canon",
   "metadata": {},
   "outputs": [
    {
     "data": {
      "text/plain": [
       "4-element Array{String,1}:\n",
       " \"d\"\n",
       " \"b\"\n",
       " \"c\"\n",
       " \"e\""
      ]
     },
     "execution_count": 14,
     "metadata": {},
     "output_type": "execute_result"
    }
   ],
   "source": [
    "array"
   ]
  },
  {
   "cell_type": "code",
   "execution_count": 15,
   "id": "assured-valley",
   "metadata": {},
   "outputs": [
    {
     "data": {
      "text/plain": [
       "\"e\""
      ]
     },
     "execution_count": 15,
     "metadata": {},
     "output_type": "execute_result"
    }
   ],
   "source": [
    "pop!(array)"
   ]
  },
  {
   "cell_type": "code",
   "execution_count": 16,
   "id": "sublime-discussion",
   "metadata": {},
   "outputs": [
    {
     "data": {
      "text/plain": [
       "3-element Array{String,1}:\n",
       " \"d\"\n",
       " \"b\"\n",
       " \"c\""
      ]
     },
     "execution_count": 16,
     "metadata": {},
     "output_type": "execute_result"
    }
   ],
   "source": [
    "array"
   ]
  },
  {
   "cell_type": "code",
   "execution_count": 17,
   "id": "korean-organ",
   "metadata": {},
   "outputs": [
    {
     "data": {
      "text/plain": [
       "4×3 Array{Float64,2}:\n",
       " 0.908319  0.837336   0.238385\n",
       " 0.973353  0.933855   0.782848\n",
       " 0.514166  0.0936979  0.641617\n",
       " 0.29088   0.993421   0.484179"
      ]
     },
     "execution_count": 17,
     "metadata": {},
     "output_type": "execute_result"
    }
   ],
   "source": [
    "rand(4, 3)"
   ]
  },
  {
   "cell_type": "code",
   "execution_count": null,
   "id": "spread-vision",
   "metadata": {},
   "outputs": [],
   "source": []
  }
 ],
 "metadata": {
  "kernelspec": {
   "display_name": "Julia 1.4.1",
   "language": "julia",
   "name": "julia-1.4"
  },
  "language_info": {
   "file_extension": ".jl",
   "mimetype": "application/julia",
   "name": "julia",
   "version": "1.4.1"
  }
 },
 "nbformat": 4,
 "nbformat_minor": 5
}
